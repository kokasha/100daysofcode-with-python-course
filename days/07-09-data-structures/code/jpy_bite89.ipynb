{
 "cells": [
  {
   "cell_type": "code",
   "execution_count": 3,
   "metadata": {},
   "outputs": [],
   "source": [
    "us_state_abbrev = {'Alabama': 'AL', 'Alaska': 'AK', 'Arizona': 'AZ',\n",
    "                   'Arkansas': 'AR', 'California': 'CA', 'Colorado': 'CO',\n",
    "                   'Connecticut': 'CT', 'Delaware': 'DE', 'Florida': 'FL',\n",
    "                   'Georgia': 'GA', 'Hawaii': 'HI', 'Idaho': 'ID',\n",
    "                   'Illinois': 'IL', 'Indiana': 'IN', 'Iowa': 'IA',\n",
    "                   'Kansas': 'KS', 'Kentucky': 'KY', 'Louisiana': 'LA',\n",
    "                   'Maine': 'ME', 'Maryland': 'MD', 'Massachusetts': 'MA',\n",
    "                   'Michigan': 'MI', 'Minnesota': 'MN', 'Mississippi': 'MS',\n",
    "                   'Missouri': 'MO', 'Montana': 'MT', 'Nebraska': 'NE',\n",
    "                   'Nevada': 'NV', 'New Hampshire': 'NH', 'New Jersey': 'NJ',\n",
    "                   'New Mexico': 'NM', 'New York': 'NY',\n",
    "                   'North Carolina': 'NC', 'North Dakota': 'ND',\n",
    "                   'Ohio': 'OH', 'Oklahoma': 'OK', 'Oregon': 'OR',\n",
    "                   'Pennsylvania': 'PA', 'Rhode Island': 'RI',\n",
    "                   'South Carolina': 'SC', 'South Dakota': 'SD',\n",
    "                   'Tennessee': 'TN', 'Texas': 'TX', 'Utah': 'UT',\n",
    "                   'Vermont': 'VT', 'Virginia': 'VA', 'Washington': 'WA',\n",
    "                   'West Virginia': 'WV', 'Wisconsin': 'WI', 'Wyoming': 'WY'}\n",
    "\n",
    "states = ['Oklahoma', 'Kansas', 'North Carolina', 'Georgia', 'Oregon',\n",
    "          'Mississippi', 'Minnesota', 'Colorado', 'Alabama',\n",
    "          'Massachusetts', 'Arizona', 'Connecticut', 'Montana',\n",
    "          'West Virginia', 'Nebraska', 'New York', 'Nevada', 'Idaho',\n",
    "          'New Jersey', 'Missouri', 'South Carolina', 'Pennsylvania',\n",
    "          'Rhode Island', 'New Mexico', 'Alaska', 'New Hampshire',\n",
    "          'Tennessee', 'Washington', 'Indiana', 'Hawaii', 'Kentucky',\n",
    "          'Virginia', 'Ohio', 'Wisconsin', 'Maryland', 'Florida',\n",
    "          'Utah', 'Maine', 'California', 'Vermont', 'Arkansas', 'Wyoming',\n",
    "          'Louisiana', 'North Dakota', 'South Dakota', 'Texas',\n",
    "          'Illinois', 'Iowa', 'Michigan', 'Delaware']\n",
    "\n",
    "NOT_FOUND = 'N/A'"
   ]
  },
  {
   "cell_type": "code",
   "execution_count": 35,
   "metadata": {},
   "outputs": [
    {
     "name": "stdout",
     "output_type": "stream",
     "text": [
      "North Carolina\n"
     ]
    }
   ],
   "source": [
    "print(max(us_state_abbrev,key=len))"
   ]
  },
  {
   "cell_type": "code",
   "execution_count": 27,
   "metadata": {},
   "outputs": [
    {
     "name": "stdout",
     "output_type": "stream",
     "text": [
      "1 Oklahoma\n",
      "2 Kansas\n",
      "3 North Carolina\n",
      "4 Georgia\n",
      "5 Oregon\n",
      "6 Mississippi\n",
      "7 Minnesota\n",
      "8 Colorado\n",
      "9 Alabama\n",
      "10 Massachusetts\n",
      "11 Arizona\n",
      "12 Connecticut\n",
      "13 Montana\n",
      "14 West Virginia\n",
      "15 Nebraska\n",
      "16 New York\n",
      "17 Nevada\n",
      "18 Idaho\n",
      "19 New Jersey\n",
      "20 Missouri\n",
      "21 South Carolina\n",
      "22 Pennsylvania\n",
      "23 Rhode Island\n",
      "24 New Mexico\n",
      "25 Alaska\n",
      "26 New Hampshire\n",
      "27 Tennessee\n",
      "28 Washington\n",
      "29 Indiana\n",
      "30 Hawaii\n",
      "31 Kentucky\n",
      "32 Virginia\n",
      "33 Ohio\n",
      "34 Wisconsin\n",
      "35 Maryland\n",
      "36 Florida\n",
      "37 Utah\n",
      "38 Maine\n",
      "39 California\n",
      "40 Vermont\n",
      "41 Arkansas\n",
      "42 Wyoming\n",
      "43 Louisiana\n",
      "44 North Dakota\n",
      "45 South Dakota\n",
      "46 Texas\n",
      "47 Illinois\n",
      "48 Iowa\n",
      "49 Michigan\n",
      "50 Delaware\n"
     ]
    }
   ],
   "source": [
    "for i , n in enumerate(states,1): print(i,n)"
   ]
  },
  {
   "cell_type": "code",
   "execution_count": 25,
   "metadata": {},
   "outputs": [
    {
     "data": {
      "text/plain": [
       "['Massachusetts', 'Missouri', 'Hawaii', 'Vermont']"
      ]
     },
     "execution_count": 25,
     "metadata": {},
     "output_type": "execute_result"
    }
   ],
   "source": [
    "def get_every_nth_state(states=states, n=10):\n",
    "    \"\"\"Return a list with every nth item (default argument n=10, so every\n",
    "       10th item) of the states list above (remember: lists keep order)\"\"\"\n",
    "    result = list()\n",
    "    for i in range(1,len(states)):\n",
    "        if i % n == 0:\n",
    "            result.append(states[i-1])\n",
    "    return result\n",
    "        \n",
    "\n",
    "get_every_nth_state()"
   ]
  },
  {
   "cell_type": "code",
   "execution_count": 12,
   "metadata": {},
   "outputs": [
    {
     "name": "stdout",
     "output_type": "stream",
     "text": [
      "Oklahoma OK\n",
      "Kansas KS\n",
      "North Carolina NC\n",
      "Georgia GA\n",
      "Oregon OR\n"
     ]
    }
   ],
   "source": [
    "def get_state_abbrev(state_name, us_state_abbrev=us_state_abbrev):\n",
    "    \"\"\"Look up a state abbreviation by querying the us_state_abbrev\n",
    "       dict by full state name, for instance 'Alabama' returns 'AL',\n",
    "       'Illinois' returns 'IL'.\n",
    "       If the state is not in the dict, return 'N/A' which we stored\n",
    "       in the NOT_FOUND constant (takeaway: dicts are great for lookups)\"\"\"\n",
    "    return us_state_abbrev.get(state_name,NOT_FOUND)\n",
    "\n",
    "for item in states[:5]:\n",
    "    print(item, get_state_abbrev(item))"
   ]
  },
  {
   "cell_type": "code",
   "execution_count": 17,
   "metadata": {},
   "outputs": [
    {
     "name": "stdout",
     "output_type": "stream",
     "text": [
      "North Carolina\n"
     ]
    }
   ],
   "source": [
    "def get_longest_state(data):\n",
    "    \"\"\"Receives data, which can be the us_state_abbrev dict or the states\n",
    "       list (see above). It returns the longest state measured by the length\n",
    "       of the string\"\"\"\n",
    "    result = sorted([(item, len(item)) for item in data],key=lambda x: x[1], reverse=True)\n",
    "    return result[0][0]\n"
   ]
  },
  {
   "cell_type": "code",
   "execution_count": 28,
   "metadata": {},
   "outputs": [
    {
     "name": "stdout",
     "output_type": "stream",
     "text": [
      "['AK', 'AL', 'AR', 'AZ', 'CA', 'CO', 'CT', 'DE', 'FL', 'GA', 'South Dakota', 'Tennessee', 'Texas', 'Utah', 'Vermont', 'Virginia', 'Washington', 'West Virginia', 'Wisconsin', 'Wyoming']\n"
     ]
    }
   ],
   "source": [
    "def combine_state_names_and_abbreviations(us_state_abbrev=us_state_abbrev,\n",
    "                                          states=states):\n",
    "    \"\"\"Get the first 10 state abbreviations ('AL', 'AK', 'AZ', ...) from\n",
    "       the us_state_abbrev dict, and the last 10 states from the states\n",
    "       list (see above) and combine them into a new list without losing\n",
    "       alphabetical order\"\"\"\n",
    "    first_10_state = sorted(us_state_abbrev.items(),key=lambda kv: kv[1])[:10]\n",
    "    last_10_state = sorted(states)[-10:]\n",
    "    return [item[1] for item in first_10_state] + last_10_state\n",
    "    \n",
    "print(combine_state_names_and_abbreviations())"
   ]
  },
  {
   "cell_type": "code",
   "execution_count": null,
   "metadata": {},
   "outputs": [],
   "source": []
  }
 ],
 "metadata": {
  "kernelspec": {
   "display_name": "Python 3",
   "language": "python",
   "name": "python3"
  }
 },
 "nbformat": 4,
 "nbformat_minor": 2
}
